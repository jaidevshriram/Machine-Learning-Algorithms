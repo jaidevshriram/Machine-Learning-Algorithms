{
 "cells": [
  {
   "cell_type": "markdown",
   "metadata": {},
   "source": [
    "# Excercise 1\n",
    "\n",
    "In the tutorial you saw how to compute LDA for a two class problem. In this excercise we will work on a multi-class problem. We will be working with the famous Iris dataset that has been deposited on the UCI machine learning repository\n",
    "(https://archive.ics.uci.edu/ml/datasets/Iris).\n",
    "\n",
    "The iris dataset contains measurements for 150 iris flowers from three different species.\n",
    "\n",
    "The three classes in the Iris dataset:\n",
    "1. Iris-setosa (n=50)\n",
    "2. Iris-versicolor (n=50)\n",
    "3. Iris-virginica (n=50)\n",
    "\n",
    "The four features of the Iris dataset:\n",
    "1. sepal length in cm\n",
    "2. sepal width in cm\n",
    "3. petal length in cm\n",
    "4. petal width in cm\n",
    "\n",
    "<img src=\"iris_petal_sepal.png\">\n",
    "\n"
   ]
  },
  {
   "cell_type": "code",
   "execution_count": 1,
   "metadata": {},
   "outputs": [],
   "source": [
    "from sklearn.datasets import make_classification\n",
    "import matplotlib.pyplot as plt\n",
    "import numpy as np\n",
    "import seaborn as sns; sns.set();\n",
    "import pandas as pd\n",
    "from sklearn.model_selection import train_test_split\n",
    "from numpy import pi\n",
    "\n",
    "from sklearn.naive_bayes import GaussianNB\n",
    "import math"
   ]
  },
  {
   "cell_type": "markdown",
   "metadata": {},
   "source": [
    "### Importing the dataset"
   ]
  },
  {
   "cell_type": "code",
   "execution_count": 2,
   "metadata": {},
   "outputs": [
    {
     "data": {
      "text/html": [
       "<div>\n",
       "<style scoped>\n",
       "    .dataframe tbody tr th:only-of-type {\n",
       "        vertical-align: middle;\n",
       "    }\n",
       "\n",
       "    .dataframe tbody tr th {\n",
       "        vertical-align: top;\n",
       "    }\n",
       "\n",
       "    .dataframe thead th {\n",
       "        text-align: right;\n",
       "    }\n",
       "</style>\n",
       "<table border=\"1\" class=\"dataframe\">\n",
       "  <thead>\n",
       "    <tr style=\"text-align: right;\">\n",
       "      <th></th>\n",
       "      <th>sepal-length</th>\n",
       "      <th>sepal-width</th>\n",
       "      <th>petal-length</th>\n",
       "      <th>petal-width</th>\n",
       "      <th>Class</th>\n",
       "    </tr>\n",
       "  </thead>\n",
       "  <tbody>\n",
       "    <tr>\n",
       "      <th>145</th>\n",
       "      <td>6.7</td>\n",
       "      <td>3.0</td>\n",
       "      <td>5.2</td>\n",
       "      <td>2.3</td>\n",
       "      <td>Iris-virginica</td>\n",
       "    </tr>\n",
       "    <tr>\n",
       "      <th>146</th>\n",
       "      <td>6.3</td>\n",
       "      <td>2.5</td>\n",
       "      <td>5.0</td>\n",
       "      <td>1.9</td>\n",
       "      <td>Iris-virginica</td>\n",
       "    </tr>\n",
       "    <tr>\n",
       "      <th>147</th>\n",
       "      <td>6.5</td>\n",
       "      <td>3.0</td>\n",
       "      <td>5.2</td>\n",
       "      <td>2.0</td>\n",
       "      <td>Iris-virginica</td>\n",
       "    </tr>\n",
       "    <tr>\n",
       "      <th>148</th>\n",
       "      <td>6.2</td>\n",
       "      <td>3.4</td>\n",
       "      <td>5.4</td>\n",
       "      <td>2.3</td>\n",
       "      <td>Iris-virginica</td>\n",
       "    </tr>\n",
       "    <tr>\n",
       "      <th>149</th>\n",
       "      <td>5.9</td>\n",
       "      <td>3.0</td>\n",
       "      <td>5.1</td>\n",
       "      <td>1.8</td>\n",
       "      <td>Iris-virginica</td>\n",
       "    </tr>\n",
       "  </tbody>\n",
       "</table>\n",
       "</div>"
      ],
      "text/plain": [
       "     sepal-length  sepal-width  petal-length  petal-width           Class\n",
       "145           6.7          3.0           5.2          2.3  Iris-virginica\n",
       "146           6.3          2.5           5.0          1.9  Iris-virginica\n",
       "147           6.5          3.0           5.2          2.0  Iris-virginica\n",
       "148           6.2          3.4           5.4          2.3  Iris-virginica\n",
       "149           5.9          3.0           5.1          1.8  Iris-virginica"
      ]
     },
     "execution_count": 2,
     "metadata": {},
     "output_type": "execute_result"
    }
   ],
   "source": [
    "url = \"https://archive.ics.uci.edu/ml/machine-learning-databases/iris/iris.data\"\n",
    "names = ['sepal-length', 'sepal-width', 'petal-length', 'petal-width', 'Class']\n",
    "dataset = pd.read_csv(url, names=names)\n",
    "\n",
    "dataset.tail()"
   ]
  },
  {
   "cell_type": "markdown",
   "metadata": {},
   "source": [
    "### Data preprocessing\n",
    "\n",
    "Once dataset is loaded into a pandas data frame object, the first step is to divide dataset into features and corresponding labels and then divide the resultant dataset into training and test sets. The following code divides data into labels and feature set:"
   ]
  },
  {
   "cell_type": "code",
   "execution_count": 3,
   "metadata": {},
   "outputs": [],
   "source": [
    "X = dataset.iloc[:, 0:4].values\n",
    "y = dataset.iloc[:, 4].values"
   ]
  },
  {
   "cell_type": "markdown",
   "metadata": {},
   "source": [
    "The above script assigns the first four columns of the dataset i.e. the feature set to X variable while the values in the fifth column (labels) are assigned to the y variable.\n",
    "\n",
    "The following code divides data into training and test sets:"
   ]
  },
  {
   "cell_type": "code",
   "execution_count": 4,
   "metadata": {},
   "outputs": [],
   "source": [
    "from sklearn.model_selection import train_test_split\n",
    "\n",
    "X_train, X_test, y_train, y_test = train_test_split(X, y, test_size=0.2, random_state=0)"
   ]
  },
  {
   "cell_type": "markdown",
   "metadata": {},
   "source": [
    "#### Feature Scaling\n",
    "\n",
    "We will now perform feature scaling as part of data preprocessing too. For this task, we will be using scikit learn `StandardScalar`."
   ]
  },
  {
   "cell_type": "code",
   "execution_count": 5,
   "metadata": {},
   "outputs": [],
   "source": [
    "from sklearn.preprocessing import StandardScaler\n",
    "\n",
    "sc = StandardScaler()\n",
    "X_train = sc.fit_transform(X_train)\n",
    "X_test = sc.transform(X_test)"
   ]
  },
  {
   "cell_type": "code",
   "execution_count": 6,
   "metadata": {},
   "outputs": [],
   "source": [
    "class_string = np.unique(y)\n",
    "def encode_y(y):\n",
    "    classes = np.unique(y)\n",
    "    for i in range(len(classes)):\n",
    "        y = np.where(y == classes[i], int(i), y)\n",
    "    return y\n",
    "    \n",
    "y_train = encode_y(y_train).astype(int)\n",
    "y_test = encode_y(y_test).astype(int)\n",
    "y = encode_y(y).astype(int)"
   ]
  },
  {
   "cell_type": "markdown",
   "metadata": {},
   "source": [
    "## Write your code below\n",
    "\n",
    "Write you code below to LDA on the IRIS dataset and compute the overall accuracy of the classifier."
   ]
  },
  {
   "cell_type": "code",
   "execution_count": 7,
   "metadata": {},
   "outputs": [],
   "source": [
    "# Calculating covariance of an input matrix\n",
    "def calc_cov_matrix(X_input):\n",
    "    n_samples = np.shape(X_input)[0]\n",
    "    cov_matrix = np.array((1 / (n_samples-1)) * (X_input - X_input.mean(axis=0)).T.dot(X_input - X_input.mean(axis=0)))\n",
    "\n",
    "    return cov_matrix"
   ]
  },
  {
   "cell_type": "code",
   "execution_count": 8,
   "metadata": {},
   "outputs": [],
   "source": [
    "### WRITE YOUR CODE HERE ####\n",
    "\n",
    "class LDA:\n",
    "    \n",
    "    def _mean(self, X, y):\n",
    "        \n",
    "        means = []\n",
    "        classes = np.unique(y)\n",
    "        \n",
    "        for i in range(len(classes)):\n",
    "            x_ = X[np.argwhere(y == classes[i])[:,0]]\n",
    "            means.append(x_.mean(axis=0))\n",
    "            \n",
    "        return np.array(means)\n",
    "    \n",
    "    def _cov(self, X, y):\n",
    "        \n",
    "        covs = []\n",
    "        classes = np.unique(y)\n",
    "        \n",
    "        for i in range(len(classes)):\n",
    "            x_ = X[np.argwhere(y == classes[i])[:, 0]]\n",
    "            covs.append(calc_cov_matrix(x_))\n",
    "            \n",
    "        return np.array(covs)\n",
    "    \n",
    "    # Calculates the weights\n",
    "    def fit(self, X, y, k=2):\n",
    "        \n",
    "        classes = np.unique(y)\n",
    "        means = self._mean(X, y)\n",
    "        covs = self._cov(X, y)\n",
    "                \n",
    "        X_mean = X.mean(axis=0)\n",
    "        \n",
    "        class_mean_diff = []\n",
    "        \n",
    "        for i in range(len(classes)):\n",
    "            x_ = X[np.argwhere(y == classes[i])[:,0]]\n",
    "            class_mean_diff.append(len(x_) * (x_.mean(axis=0) - X_mean).reshape(-1,1) @ (x_.mean(axis=0) - X_mean).reshape(-1,1).T)\n",
    "        \n",
    "        class_mean_diff = np.array(class_mean_diff)\n",
    "        \n",
    "        SW = np.round(np.sum(covs, axis=0).astype(float), 3)\n",
    "        SB = np.round(np.sum(class_mean_diff, axis=0).astype(float), 3)\n",
    "        \n",
    "        eigvals, eigvecs = np.linalg.eig(np.linalg.pinv(SW).dot(SB))       \n",
    "        \n",
    "        # Getting the eigenvectors with the maximum eigenvalue.\n",
    "        idx = eigvals.argsort()[::-1]\n",
    "        eigvals = eigvals[idx][:k]\n",
    "        self.weights = np.atleast_1d(eigvecs[:, idx])[:, :k]\n",
    "                \n",
    "        self.model = GaussianNB(priors=None)\n",
    "        self.model.fit(X @ self.weights, y)\n",
    "        \n",
    "        return self\n",
    "    \n",
    "    def predict(self, X):\n",
    "        return self.model.predict(X)\n",
    "    \n",
    "    def get_scores(self, X, y):\n",
    "        x_ = (X @ self.weights).astype(float)\n",
    "        return self.model.score(x_, y)\n",
    "    \n",
    "    def transform(self, X):\n",
    "        return X @ self.weights"
   ]
  },
  {
   "cell_type": "code",
   "execution_count": 9,
   "metadata": {},
   "outputs": [],
   "source": [
    "model = LDA().fit(X_train, y_train)"
   ]
  },
  {
   "cell_type": "code",
   "execution_count": 10,
   "metadata": {},
   "outputs": [
    {
     "name": "stdout",
     "output_type": "stream",
     "text": [
      "Training Accuracy: 97.5\n",
      "Testing Accuracy: 100.0\n"
     ]
    }
   ],
   "source": [
    "print(\"Training Accuracy: {}\".format(model.get_scores(X_train, y_train) * 100))\n",
    "print(\"Testing Accuracy: {}\".format(model.get_scores(X_test, y_test) * 100))"
   ]
  },
  {
   "cell_type": "markdown",
   "metadata": {},
   "source": [
    "# Project to 2D"
   ]
  },
  {
   "cell_type": "code",
   "execution_count": 11,
   "metadata": {
    "scrolled": true
   },
   "outputs": [
    {
     "data": {
      "image/png": "[encoded data removed]",
      "text/plain": [
       "<Figure size 432x288 with 1 Axes>"
      ]
     },
     "metadata": {
      "needs_background": "light"
     },
     "output_type": "display_data"
    }
   ],
   "source": [
    "X_ = model.transform(X_train)\n",
    "X1 = np.linspace(-2.5, 2.5, 500)\n",
    "X2 = np.linspace(-2, 2, 500)\n",
    "\n",
    "X1, X2 = np.meshgrid(X1, X2)\n",
    "\n",
    "mesh_class = np.array([model.predict([[x1, x2]])[0] for x1, x2 in zip(X1.flatten(), X2.flatten())])\n",
    "Y = mesh_class.reshape(X1.shape)\n",
    "\n",
    "classes = np.unique(y_train)\n",
    "colors = (\"r\", \"g\", \"b\")\n",
    "\n",
    "plt.contour(X1, X2, Y, 2, alpha = .3, colors = colors)\n",
    "plt.contourf(X1, X2, Y, 2, alpha = .3, colors = colors)\n",
    "\n",
    "for i in range(len(classes)):\n",
    "    plt.scatter(X_[np.argwhere(y_train == i)[:, 0]][:, 0], X_[np.argwhere(y_train == i)[:, 0]][:, 1], color=colors[i], label=class_string[i])\n",
    "plt.legend()\n",
    "plt.show()"
   ]
  }
 ],
 "metadata": {
  "kernelspec": {
   "display_name": "Python 3",
   "language": "python",
   "name": "python3"
  },
  "language_info": {
   "codemirror_mode": {
    "name": "ipython",
    "version": 3
   },
   "file_extension": ".py",
   "mimetype": "text/x-python",
   "name": "python",
   "nbconvert_exporter": "python",
   "pygments_lexer": "ipython3",
   "version": "3.6.9"
  }
 },
 "nbformat": 4,
 "nbformat_minor": 2
}
